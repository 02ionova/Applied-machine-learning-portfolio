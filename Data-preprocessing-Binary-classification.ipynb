{
 "cells": [
  {
   "cell_type": "markdown",
   "metadata": {},
   "source": [
    "# Úkol č. 1 - předzpracování dat a binární klasifikace\n",
    "\n",
    "* Termíny jsou uvedeny na [courses.fit.cvut.cz/BI-ML1/homeworks/index.html](https://courses.fit.cvut.cz/BI-ML1/homeworks/index.html).\n",
    "* Pokud odevzdáte úkol po prvním termínu ale před nejzazším termínem, budete penalizování -12 body, pozdější odevzdání je bez bodu.\n",
    "* V rámci tohoto úkolu se musíte vypořádat s klasifikační úlohou s příznaky různých typů a s chybějícími hodnotami.\n",
    "* Před tím, než na nich postavíte predikční model, je třeba je nějakým způsobem převést do číselné reprezentace.\n",
    "    \n",
    "> **Úkoly jsou zadány tak, aby Vám daly prostor pro invenci. Vymyslet _jak přesně_ budete úkol řešit, je důležitou součástí zadání a originalita či nápaditost bude také hodnocena!**\n",
    "\n",
    "Využívejte buňky typu `Markdown` k vysvětlování Vašeho postupu. Za nepřehlednost budeme strhávat body.\n",
    "\n",
    "## Zdroj dat\n",
    "\n",
    "Budeme se zabývat predikcí přežití pasažérů Titaniku.\n",
    "K dispozici máte trénovací data v souboru `data.csv` a data na vyhodnocení v souboru `evaluation.csv`.\n",
    "\n",
    "#### Seznam příznaků:\n",
    "* survived - zda pasažér přežil, 0 = Ne, 1 = Ano; **vysvětlovaná proměnná**, kterou chcete predikovat\n",
    "* pclass - Třída lodního lístku, 1 = první, 2 = druhá, 3 = třetí\n",
    "* name - jméno\n",
    "* sex - pohlaví\n",
    "* age - věk v letech\n",
    "* sibsp\t- počet sourozenců / manželů, manželek na palubě\n",
    "* parch - počet rodičů / dětí na palubě\n",
    "* ticket - číslo lodního lístku\n",
    "* fare - cena lodního lístku\n",
    "* cabin\t- číslo kajuty\n",
    "* embarked\t- místo nalodění, C = Cherbourg, Q = Queenstown, S = Southampton\n",
    "* home.dest - Bydliště/Cíl\n",
    "\n",
    "## Pokyny k vypracování\n",
    "\n",
    "**Body zadání**, za jejichž (poctivé) vypracování získáte **25 bodů**: \n",
    "  * V notebooku načtěte data ze souboru `data.csv`. Vhodným způsobem si je rozdělte na podmnožiny, které Vám poslouží pro trénování (trénovací), porovnávání modelů (validační) a následnou predikci výkonnosti finálního modelu (testovací).\n",
    "    \n",
    "  * Proveďte základní předzpracování dat:\n",
    "    * Projděte si jednotlivé příznaky a transformujte je do vhodné podoby pro použití ve vybraném klasifikačním modelu.\n",
    "    * Podle potřeby si můžete vytvářet nové příznaky (na základě existujících), například tedy můžete vytvořit příznak měřící délku jména atp.\n",
    "    * Některé příznaky můžete také úplně zahodit.\n",
    "    * Nějakým způsobem (klidně triviálním) se vypořádejte s chybějícími hodnotami. Není potřeba používat sofistikované metody. _Hlavně pozor na metodické chyby!_\n",
    "    * Můžete využívat i vizualizace a vše stručně ale náležitě komentujte.\n",
    "\n",
    "  \n",
    "  * Na připravená data postupně aplikujte **rozhodovací strom** a **metodu nejbližších sousedů**, přičemž pro každý z těchto modelů:\n",
    "    * Okomentujte vhodnost daného modelu pro daný typ úlohy.\n",
    "    * Vyberte si hlavní hyperparametry k ladění a najděte jejich nejlepší hodnoty.\n",
    "    * Pro model s nejlepšími hodnotami hyperparametrů spočtěte F1 skóre, nakreslete ROC křivku a určete AUC. _Pozor na metodické chyby!_\n",
    "    * Získané výsledky vždy řádně okomentujte.\n",
    "\n",
    "        \n",
    "  * Ze všech zkoušených možností v předchozím kroku vyberte finální model (jednoznačně popište o který konkrétně jde) a správně odhadněte, jakou **přesnost** můžete očekávat na nových datech, která jste doposud neměli k dispozici. _Pozor na metodické chyby!_\n",
    "    \n",
    "  * Nakonec načtěte vyhodnocovací data ze souboru `evaluation.csv`. Pomocí finálního modelu napočítejte predikce pro tyto data (vysvětlovaná proměnná v nich již není). Vytvořte soubor `results.csv`, ve kterém získané predikce uložíte do sloupce **survived** a identifikátory do sloupce **ID** (dodržte názvy sloupců!). Tento soubor též odevzdejte (uložte do repozitáře vedle notebooku).\n",
    "\n",
    "      * Snažte se vše udělat tak, aby přesnost odevzdaných predikcí na vyhodocovacím datasetu byla alespoň **75%**. Pokud bude menší, přijdete o **3 body**.\n",
    "      * Ukázka, jak by mělo vypadat prvních několik řádků souboru `results.csv` (obecně s jinými hodnotami survived):\n",
    "  \n",
    "```\n",
    "ID,survived\n",
    "1000,0\n",
    "1001,1\n",
    "...\n",
    "```\n",
    "\n",
    "## Poznámky k odevzdání\n",
    "\n",
    "  * Řiďte se pokyny ze stránky https://courses.fit.cvut.cz/BI-ML1/homeworks/index.html.\n",
    "  * Vytvořte i csv soubor `results.csv` s predikcemi a uložte ho v rámci projektu vedle ipython notebooku."
   ]
  },
  {
   "cell_type": "code",
   "execution_count": 229,
   "metadata": {},
   "outputs": [],
   "source": [
    "# Load all needed libraries \n",
    "import pandas as pd \n",
    "from sklearn.model_selection import train_test_split \n",
    "from sklearn.tree import DecisionTreeClassifier\n",
    "from sklearn.metrics import accuracy_score      \n",
    "import sklearn.metrics as metrics\n",
    "from sklearn.model_selection import ParameterGrid\n",
    "import matplotlib.pyplot as plt\n",
    "import numpy as np\n",
    "from sklearn.preprocessing import MinMaxScaler, StandardScaler\n",
    "from sklearn.neighbors import KNeighborsClassifier\n",
    "from sklearn.metrics import f1_score"
   ]
  },
  {
   "cell_type": "code",
   "execution_count": 230,
   "metadata": {},
   "outputs": [],
   "source": [
    "# Load data from the file data.csv\n",
    "dt = pd.read_csv(\"data.csv\") "
   ]
  },
  {
   "cell_type": "markdown",
   "metadata": {},
   "source": [
    "## Basic information about the dataset"
   ]
  },
  {
   "cell_type": "code",
   "execution_count": 231,
   "metadata": {},
   "outputs": [
    {
     "data": {
      "text/html": [
       "<div>\n",
       "<style scoped>\n",
       "    .dataframe tbody tr th:only-of-type {\n",
       "        vertical-align: middle;\n",
       "    }\n",
       "\n",
       "    .dataframe tbody tr th {\n",
       "        vertical-align: top;\n",
       "    }\n",
       "\n",
       "    .dataframe thead th {\n",
       "        text-align: right;\n",
       "    }\n",
       "</style>\n",
       "<table border=\"1\" class=\"dataframe\">\n",
       "  <thead>\n",
       "    <tr style=\"text-align: right;\">\n",
       "      <th></th>\n",
       "      <th>ID</th>\n",
       "      <th>survived</th>\n",
       "      <th>pclass</th>\n",
       "      <th>name</th>\n",
       "      <th>sex</th>\n",
       "      <th>age</th>\n",
       "      <th>sibsp</th>\n",
       "      <th>parch</th>\n",
       "      <th>ticket</th>\n",
       "      <th>fare</th>\n",
       "      <th>cabin</th>\n",
       "      <th>embarked</th>\n",
       "      <th>home.dest</th>\n",
       "    </tr>\n",
       "  </thead>\n",
       "  <tbody>\n",
       "    <tr>\n",
       "      <th>0</th>\n",
       "      <td>0</td>\n",
       "      <td>0</td>\n",
       "      <td>2</td>\n",
       "      <td>Baimbrigge, Mr. Charles Robert</td>\n",
       "      <td>male</td>\n",
       "      <td>23.0</td>\n",
       "      <td>0</td>\n",
       "      <td>0</td>\n",
       "      <td>C.A. 31030</td>\n",
       "      <td>10.5000</td>\n",
       "      <td>NaN</td>\n",
       "      <td>S</td>\n",
       "      <td>Guernsey</td>\n",
       "    </tr>\n",
       "    <tr>\n",
       "      <th>1</th>\n",
       "      <td>1</td>\n",
       "      <td>0</td>\n",
       "      <td>3</td>\n",
       "      <td>Aronsson, Mr. Ernst Axel Algot</td>\n",
       "      <td>male</td>\n",
       "      <td>24.0</td>\n",
       "      <td>0</td>\n",
       "      <td>0</td>\n",
       "      <td>349911</td>\n",
       "      <td>7.7750</td>\n",
       "      <td>NaN</td>\n",
       "      <td>S</td>\n",
       "      <td>Sweden Joliet, IL</td>\n",
       "    </tr>\n",
       "    <tr>\n",
       "      <th>2</th>\n",
       "      <td>2</td>\n",
       "      <td>0</td>\n",
       "      <td>3</td>\n",
       "      <td>Novel, Mr. Mansouer</td>\n",
       "      <td>male</td>\n",
       "      <td>28.5</td>\n",
       "      <td>0</td>\n",
       "      <td>0</td>\n",
       "      <td>2697</td>\n",
       "      <td>7.2292</td>\n",
       "      <td>NaN</td>\n",
       "      <td>C</td>\n",
       "      <td>NaN</td>\n",
       "    </tr>\n",
       "    <tr>\n",
       "      <th>3</th>\n",
       "      <td>3</td>\n",
       "      <td>0</td>\n",
       "      <td>3</td>\n",
       "      <td>Osen, Mr. Olaf Elon</td>\n",
       "      <td>male</td>\n",
       "      <td>16.0</td>\n",
       "      <td>0</td>\n",
       "      <td>0</td>\n",
       "      <td>7534</td>\n",
       "      <td>9.2167</td>\n",
       "      <td>NaN</td>\n",
       "      <td>S</td>\n",
       "      <td>NaN</td>\n",
       "    </tr>\n",
       "    <tr>\n",
       "      <th>4</th>\n",
       "      <td>4</td>\n",
       "      <td>1</td>\n",
       "      <td>2</td>\n",
       "      <td>Navratil, Master. Michel M</td>\n",
       "      <td>male</td>\n",
       "      <td>3.0</td>\n",
       "      <td>1</td>\n",
       "      <td>1</td>\n",
       "      <td>230080</td>\n",
       "      <td>26.0000</td>\n",
       "      <td>F2</td>\n",
       "      <td>S</td>\n",
       "      <td>Nice, France</td>\n",
       "    </tr>\n",
       "    <tr>\n",
       "      <th>5</th>\n",
       "      <td>5</td>\n",
       "      <td>1</td>\n",
       "      <td>1</td>\n",
       "      <td>Hays, Mrs. Charles Melville (Clara Jennings Gr...</td>\n",
       "      <td>female</td>\n",
       "      <td>52.0</td>\n",
       "      <td>1</td>\n",
       "      <td>1</td>\n",
       "      <td>12749</td>\n",
       "      <td>93.5000</td>\n",
       "      <td>B69</td>\n",
       "      <td>S</td>\n",
       "      <td>Montreal, PQ</td>\n",
       "    </tr>\n",
       "    <tr>\n",
       "      <th>6</th>\n",
       "      <td>6</td>\n",
       "      <td>1</td>\n",
       "      <td>1</td>\n",
       "      <td>Young, Miss. Marie Grice</td>\n",
       "      <td>female</td>\n",
       "      <td>36.0</td>\n",
       "      <td>0</td>\n",
       "      <td>0</td>\n",
       "      <td>PC 17760</td>\n",
       "      <td>135.6333</td>\n",
       "      <td>C32</td>\n",
       "      <td>C</td>\n",
       "      <td>New York, NY / Washington, DC</td>\n",
       "    </tr>\n",
       "    <tr>\n",
       "      <th>7</th>\n",
       "      <td>7</td>\n",
       "      <td>1</td>\n",
       "      <td>1</td>\n",
       "      <td>Sagesser, Mlle. Emma</td>\n",
       "      <td>female</td>\n",
       "      <td>24.0</td>\n",
       "      <td>0</td>\n",
       "      <td>0</td>\n",
       "      <td>PC 17477</td>\n",
       "      <td>69.3000</td>\n",
       "      <td>B35</td>\n",
       "      <td>C</td>\n",
       "      <td>NaN</td>\n",
       "    </tr>\n",
       "    <tr>\n",
       "      <th>8</th>\n",
       "      <td>8</td>\n",
       "      <td>0</td>\n",
       "      <td>3</td>\n",
       "      <td>Hendekovic, Mr. Ignjac</td>\n",
       "      <td>male</td>\n",
       "      <td>28.0</td>\n",
       "      <td>0</td>\n",
       "      <td>0</td>\n",
       "      <td>349243</td>\n",
       "      <td>7.8958</td>\n",
       "      <td>NaN</td>\n",
       "      <td>S</td>\n",
       "      <td>NaN</td>\n",
       "    </tr>\n",
       "    <tr>\n",
       "      <th>9</th>\n",
       "      <td>9</td>\n",
       "      <td>1</td>\n",
       "      <td>2</td>\n",
       "      <td>Hosono, Mr. Masabumi</td>\n",
       "      <td>male</td>\n",
       "      <td>42.0</td>\n",
       "      <td>0</td>\n",
       "      <td>0</td>\n",
       "      <td>237798</td>\n",
       "      <td>13.0000</td>\n",
       "      <td>NaN</td>\n",
       "      <td>S</td>\n",
       "      <td>Tokyo, Japan</td>\n",
       "    </tr>\n",
       "  </tbody>\n",
       "</table>\n",
       "</div>"
      ],
      "text/plain": [
       "   ID  survived  pclass                                               name  \\\n",
       "0   0         0       2                     Baimbrigge, Mr. Charles Robert   \n",
       "1   1         0       3                     Aronsson, Mr. Ernst Axel Algot   \n",
       "2   2         0       3                                Novel, Mr. Mansouer   \n",
       "3   3         0       3                                Osen, Mr. Olaf Elon   \n",
       "4   4         1       2                         Navratil, Master. Michel M   \n",
       "5   5         1       1  Hays, Mrs. Charles Melville (Clara Jennings Gr...   \n",
       "6   6         1       1                           Young, Miss. Marie Grice   \n",
       "7   7         1       1                               Sagesser, Mlle. Emma   \n",
       "8   8         0       3                             Hendekovic, Mr. Ignjac   \n",
       "9   9         1       2                               Hosono, Mr. Masabumi   \n",
       "\n",
       "      sex   age  sibsp  parch      ticket      fare cabin embarked  \\\n",
       "0    male  23.0      0      0  C.A. 31030   10.5000   NaN        S   \n",
       "1    male  24.0      0      0      349911    7.7750   NaN        S   \n",
       "2    male  28.5      0      0        2697    7.2292   NaN        C   \n",
       "3    male  16.0      0      0        7534    9.2167   NaN        S   \n",
       "4    male   3.0      1      1      230080   26.0000    F2        S   \n",
       "5  female  52.0      1      1       12749   93.5000   B69        S   \n",
       "6  female  36.0      0      0    PC 17760  135.6333   C32        C   \n",
       "7  female  24.0      0      0    PC 17477   69.3000   B35        C   \n",
       "8    male  28.0      0      0      349243    7.8958   NaN        S   \n",
       "9    male  42.0      0      0      237798   13.0000   NaN        S   \n",
       "\n",
       "                       home.dest  \n",
       "0                       Guernsey  \n",
       "1              Sweden Joliet, IL  \n",
       "2                            NaN  \n",
       "3                            NaN  \n",
       "4                   Nice, France  \n",
       "5                   Montreal, PQ  \n",
       "6  New York, NY / Washington, DC  \n",
       "7                            NaN  \n",
       "8                            NaN  \n",
       "9                   Tokyo, Japan  "
      ]
     },
     "execution_count": 231,
     "metadata": {},
     "output_type": "execute_result"
    }
   ],
   "source": [
    "# Display the first 10 rows of the DataFrame dt\n",
    "dt.head(10)"
   ]
  },
  {
   "cell_type": "code",
   "execution_count": 232,
   "metadata": {},
   "outputs": [
    {
     "name": "stdout",
     "output_type": "stream",
     "text": [
      "<class 'pandas.core.frame.DataFrame'>\n",
      "RangeIndex: 1000 entries, 0 to 999\n",
      "Data columns (total 13 columns):\n",
      " #   Column     Non-Null Count  Dtype  \n",
      "---  ------     --------------  -----  \n",
      " 0   ID         1000 non-null   int64  \n",
      " 1   survived   1000 non-null   int64  \n",
      " 2   pclass     1000 non-null   int64  \n",
      " 3   name       1000 non-null   object \n",
      " 4   sex        1000 non-null   object \n",
      " 5   age        796 non-null    float64\n",
      " 6   sibsp      1000 non-null   int64  \n",
      " 7   parch      1000 non-null   int64  \n",
      " 8   ticket     1000 non-null   object \n",
      " 9   fare       1000 non-null   float64\n",
      " 10  cabin      225 non-null    object \n",
      " 11  embarked   1000 non-null   object \n",
      " 12  home.dest  573 non-null    object \n",
      "dtypes: float64(2), int64(5), object(6)\n",
      "memory usage: 101.7+ KB\n"
     ]
    }
   ],
   "source": [
    "# Display common information about the DataFrame (data types,  number of values)\n",
    "dt.info()"
   ]
  },
  {
   "cell_type": "markdown",
   "metadata": {},
   "source": [
    "In this task, I worked with a relatively small dataset consisting of 1,000 entries. After analyzing the dataset, I realized that its limited size might hinder the training and performance of models, so I decided to **duplicate the dataset** to simulate a larger data size."
   ]
  },
  {
   "cell_type": "code",
   "execution_count": 233,
   "metadata": {},
   "outputs": [
    {
     "name": "stdout",
     "output_type": "stream",
     "text": [
      "<class 'pandas.core.frame.DataFrame'>\n",
      "RangeIndex: 10000 entries, 0 to 9999\n",
      "Data columns (total 13 columns):\n",
      " #   Column     Non-Null Count  Dtype  \n",
      "---  ------     --------------  -----  \n",
      " 0   ID         10000 non-null  int64  \n",
      " 1   survived   10000 non-null  int64  \n",
      " 2   pclass     10000 non-null  int64  \n",
      " 3   name       10000 non-null  object \n",
      " 4   sex        10000 non-null  object \n",
      " 5   age        7960 non-null   float64\n",
      " 6   sibsp      10000 non-null  int64  \n",
      " 7   parch      10000 non-null  int64  \n",
      " 8   ticket     10000 non-null  object \n",
      " 9   fare       10000 non-null  float64\n",
      " 10  cabin      2250 non-null   object \n",
      " 11  embarked   10000 non-null  object \n",
      " 12  home.dest  5730 non-null   object \n",
      "dtypes: float64(2), int64(5), object(6)\n",
      "memory usage: 1015.8+ KB\n",
      "None\n"
     ]
    }
   ],
   "source": [
    "# Duplicate the dataset n times\n",
    "n = 10  # Number of times to duplicate\n",
    "dt = pd.concat([dt] * n, ignore_index=True)\n",
    "print(dt.info())"
   ]
  },
  {
   "cell_type": "code",
   "execution_count": 234,
   "metadata": {},
   "outputs": [
    {
     "data": {
      "text/html": [
       "<div>\n",
       "<style scoped>\n",
       "    .dataframe tbody tr th:only-of-type {\n",
       "        vertical-align: middle;\n",
       "    }\n",
       "\n",
       "    .dataframe tbody tr th {\n",
       "        vertical-align: top;\n",
       "    }\n",
       "\n",
       "    .dataframe thead th {\n",
       "        text-align: right;\n",
       "    }\n",
       "</style>\n",
       "<table border=\"1\" class=\"dataframe\">\n",
       "  <thead>\n",
       "    <tr style=\"text-align: right;\">\n",
       "      <th></th>\n",
       "      <th>ID</th>\n",
       "      <th>survived</th>\n",
       "      <th>pclass</th>\n",
       "      <th>age</th>\n",
       "      <th>sibsp</th>\n",
       "      <th>parch</th>\n",
       "      <th>fare</th>\n",
       "    </tr>\n",
       "  </thead>\n",
       "  <tbody>\n",
       "    <tr>\n",
       "      <th>count</th>\n",
       "      <td>10000.000000</td>\n",
       "      <td>10000.000000</td>\n",
       "      <td>10000.000000</td>\n",
       "      <td>7960.000000</td>\n",
       "      <td>10000.00000</td>\n",
       "      <td>10000.000000</td>\n",
       "      <td>10000.000000</td>\n",
       "    </tr>\n",
       "    <tr>\n",
       "      <th>mean</th>\n",
       "      <td>499.500000</td>\n",
       "      <td>0.373000</td>\n",
       "      <td>2.309000</td>\n",
       "      <td>29.894996</td>\n",
       "      <td>0.52200</td>\n",
       "      <td>0.390000</td>\n",
       "      <td>32.356224</td>\n",
       "    </tr>\n",
       "    <tr>\n",
       "      <th>std</th>\n",
       "      <td>288.689425</td>\n",
       "      <td>0.483626</td>\n",
       "      <td>0.835218</td>\n",
       "      <td>14.572447</td>\n",
       "      <td>1.09162</td>\n",
       "      <td>0.877483</td>\n",
       "      <td>50.031280</td>\n",
       "    </tr>\n",
       "    <tr>\n",
       "      <th>min</th>\n",
       "      <td>0.000000</td>\n",
       "      <td>0.000000</td>\n",
       "      <td>1.000000</td>\n",
       "      <td>0.166700</td>\n",
       "      <td>0.00000</td>\n",
       "      <td>0.000000</td>\n",
       "      <td>0.000000</td>\n",
       "    </tr>\n",
       "    <tr>\n",
       "      <th>25%</th>\n",
       "      <td>249.750000</td>\n",
       "      <td>0.000000</td>\n",
       "      <td>2.000000</td>\n",
       "      <td>21.000000</td>\n",
       "      <td>0.00000</td>\n",
       "      <td>0.000000</td>\n",
       "      <td>7.895800</td>\n",
       "    </tr>\n",
       "    <tr>\n",
       "      <th>50%</th>\n",
       "      <td>499.500000</td>\n",
       "      <td>0.000000</td>\n",
       "      <td>3.000000</td>\n",
       "      <td>28.000000</td>\n",
       "      <td>0.00000</td>\n",
       "      <td>0.000000</td>\n",
       "      <td>14.458300</td>\n",
       "    </tr>\n",
       "    <tr>\n",
       "      <th>75%</th>\n",
       "      <td>749.250000</td>\n",
       "      <td>1.000000</td>\n",
       "      <td>3.000000</td>\n",
       "      <td>39.000000</td>\n",
       "      <td>1.00000</td>\n",
       "      <td>0.000000</td>\n",
       "      <td>31.068750</td>\n",
       "    </tr>\n",
       "    <tr>\n",
       "      <th>max</th>\n",
       "      <td>999.000000</td>\n",
       "      <td>1.000000</td>\n",
       "      <td>3.000000</td>\n",
       "      <td>80.000000</td>\n",
       "      <td>8.00000</td>\n",
       "      <td>9.000000</td>\n",
       "      <td>512.329200</td>\n",
       "    </tr>\n",
       "  </tbody>\n",
       "</table>\n",
       "</div>"
      ],
      "text/plain": [
       "                 ID      survived        pclass          age        sibsp  \\\n",
       "count  10000.000000  10000.000000  10000.000000  7960.000000  10000.00000   \n",
       "mean     499.500000      0.373000      2.309000    29.894996      0.52200   \n",
       "std      288.689425      0.483626      0.835218    14.572447      1.09162   \n",
       "min        0.000000      0.000000      1.000000     0.166700      0.00000   \n",
       "25%      249.750000      0.000000      2.000000    21.000000      0.00000   \n",
       "50%      499.500000      0.000000      3.000000    28.000000      0.00000   \n",
       "75%      749.250000      1.000000      3.000000    39.000000      1.00000   \n",
       "max      999.000000      1.000000      3.000000    80.000000      8.00000   \n",
       "\n",
       "              parch          fare  \n",
       "count  10000.000000  10000.000000  \n",
       "mean       0.390000     32.356224  \n",
       "std        0.877483     50.031280  \n",
       "min        0.000000      0.000000  \n",
       "25%        0.000000      7.895800  \n",
       "50%        0.000000     14.458300  \n",
       "75%        0.000000     31.068750  \n",
       "max        9.000000    512.329200  "
      ]
     },
     "execution_count": 234,
     "metadata": {},
     "output_type": "execute_result"
    }
   ],
   "source": [
    "# Get basic data stats (count, mean, std, min, max,..), includes numeric columns\n",
    "dt.describe()"
   ]
  },
  {
   "cell_type": "code",
   "execution_count": 235,
   "metadata": {},
   "outputs": [
    {
     "data": {
      "text/html": [
       "<div>\n",
       "<style scoped>\n",
       "    .dataframe tbody tr th:only-of-type {\n",
       "        vertical-align: middle;\n",
       "    }\n",
       "\n",
       "    .dataframe tbody tr th {\n",
       "        vertical-align: top;\n",
       "    }\n",
       "\n",
       "    .dataframe thead th {\n",
       "        text-align: right;\n",
       "    }\n",
       "</style>\n",
       "<table border=\"1\" class=\"dataframe\">\n",
       "  <thead>\n",
       "    <tr style=\"text-align: right;\">\n",
       "      <th></th>\n",
       "      <th>ID</th>\n",
       "      <th>survived</th>\n",
       "      <th>pclass</th>\n",
       "      <th>name</th>\n",
       "      <th>sex</th>\n",
       "      <th>age</th>\n",
       "      <th>sibsp</th>\n",
       "      <th>parch</th>\n",
       "      <th>ticket</th>\n",
       "      <th>fare</th>\n",
       "      <th>cabin</th>\n",
       "      <th>embarked</th>\n",
       "      <th>home.dest</th>\n",
       "    </tr>\n",
       "  </thead>\n",
       "  <tbody>\n",
       "    <tr>\n",
       "      <th>count</th>\n",
       "      <td>10000.000000</td>\n",
       "      <td>10000.000000</td>\n",
       "      <td>10000.000000</td>\n",
       "      <td>10000</td>\n",
       "      <td>10000</td>\n",
       "      <td>7960.000000</td>\n",
       "      <td>10000.00000</td>\n",
       "      <td>10000.000000</td>\n",
       "      <td>10000</td>\n",
       "      <td>10000.000000</td>\n",
       "      <td>2250</td>\n",
       "      <td>10000</td>\n",
       "      <td>5730</td>\n",
       "    </tr>\n",
       "    <tr>\n",
       "      <th>unique</th>\n",
       "      <td>NaN</td>\n",
       "      <td>NaN</td>\n",
       "      <td>NaN</td>\n",
       "      <td>998</td>\n",
       "      <td>2</td>\n",
       "      <td>NaN</td>\n",
       "      <td>NaN</td>\n",
       "      <td>NaN</td>\n",
       "      <td>747</td>\n",
       "      <td>NaN</td>\n",
       "      <td>155</td>\n",
       "      <td>3</td>\n",
       "      <td>308</td>\n",
       "    </tr>\n",
       "    <tr>\n",
       "      <th>top</th>\n",
       "      <td>NaN</td>\n",
       "      <td>NaN</td>\n",
       "      <td>NaN</td>\n",
       "      <td>Kelly, Mr. James</td>\n",
       "      <td>male</td>\n",
       "      <td>NaN</td>\n",
       "      <td>NaN</td>\n",
       "      <td>NaN</td>\n",
       "      <td>CA. 2343</td>\n",
       "      <td>NaN</td>\n",
       "      <td>C23 C25 C27</td>\n",
       "      <td>S</td>\n",
       "      <td>New York, NY</td>\n",
       "    </tr>\n",
       "    <tr>\n",
       "      <th>freq</th>\n",
       "      <td>NaN</td>\n",
       "      <td>NaN</td>\n",
       "      <td>NaN</td>\n",
       "      <td>20</td>\n",
       "      <td>6470</td>\n",
       "      <td>NaN</td>\n",
       "      <td>NaN</td>\n",
       "      <td>NaN</td>\n",
       "      <td>100</td>\n",
       "      <td>NaN</td>\n",
       "      <td>50</td>\n",
       "      <td>7140</td>\n",
       "      <td>460</td>\n",
       "    </tr>\n",
       "    <tr>\n",
       "      <th>mean</th>\n",
       "      <td>499.500000</td>\n",
       "      <td>0.373000</td>\n",
       "      <td>2.309000</td>\n",
       "      <td>NaN</td>\n",
       "      <td>NaN</td>\n",
       "      <td>29.894996</td>\n",
       "      <td>0.52200</td>\n",
       "      <td>0.390000</td>\n",
       "      <td>NaN</td>\n",
       "      <td>32.356224</td>\n",
       "      <td>NaN</td>\n",
       "      <td>NaN</td>\n",
       "      <td>NaN</td>\n",
       "    </tr>\n",
       "    <tr>\n",
       "      <th>std</th>\n",
       "      <td>288.689425</td>\n",
       "      <td>0.483626</td>\n",
       "      <td>0.835218</td>\n",
       "      <td>NaN</td>\n",
       "      <td>NaN</td>\n",
       "      <td>14.572447</td>\n",
       "      <td>1.09162</td>\n",
       "      <td>0.877483</td>\n",
       "      <td>NaN</td>\n",
       "      <td>50.031280</td>\n",
       "      <td>NaN</td>\n",
       "      <td>NaN</td>\n",
       "      <td>NaN</td>\n",
       "    </tr>\n",
       "    <tr>\n",
       "      <th>min</th>\n",
       "      <td>0.000000</td>\n",
       "      <td>0.000000</td>\n",
       "      <td>1.000000</td>\n",
       "      <td>NaN</td>\n",
       "      <td>NaN</td>\n",
       "      <td>0.166700</td>\n",
       "      <td>0.00000</td>\n",
       "      <td>0.000000</td>\n",
       "      <td>NaN</td>\n",
       "      <td>0.000000</td>\n",
       "      <td>NaN</td>\n",
       "      <td>NaN</td>\n",
       "      <td>NaN</td>\n",
       "    </tr>\n",
       "    <tr>\n",
       "      <th>25%</th>\n",
       "      <td>249.750000</td>\n",
       "      <td>0.000000</td>\n",
       "      <td>2.000000</td>\n",
       "      <td>NaN</td>\n",
       "      <td>NaN</td>\n",
       "      <td>21.000000</td>\n",
       "      <td>0.00000</td>\n",
       "      <td>0.000000</td>\n",
       "      <td>NaN</td>\n",
       "      <td>7.895800</td>\n",
       "      <td>NaN</td>\n",
       "      <td>NaN</td>\n",
       "      <td>NaN</td>\n",
       "    </tr>\n",
       "    <tr>\n",
       "      <th>50%</th>\n",
       "      <td>499.500000</td>\n",
       "      <td>0.000000</td>\n",
       "      <td>3.000000</td>\n",
       "      <td>NaN</td>\n",
       "      <td>NaN</td>\n",
       "      <td>28.000000</td>\n",
       "      <td>0.00000</td>\n",
       "      <td>0.000000</td>\n",
       "      <td>NaN</td>\n",
       "      <td>14.458300</td>\n",
       "      <td>NaN</td>\n",
       "      <td>NaN</td>\n",
       "      <td>NaN</td>\n",
       "    </tr>\n",
       "    <tr>\n",
       "      <th>75%</th>\n",
       "      <td>749.250000</td>\n",
       "      <td>1.000000</td>\n",
       "      <td>3.000000</td>\n",
       "      <td>NaN</td>\n",
       "      <td>NaN</td>\n",
       "      <td>39.000000</td>\n",
       "      <td>1.00000</td>\n",
       "      <td>0.000000</td>\n",
       "      <td>NaN</td>\n",
       "      <td>31.068750</td>\n",
       "      <td>NaN</td>\n",
       "      <td>NaN</td>\n",
       "      <td>NaN</td>\n",
       "    </tr>\n",
       "    <tr>\n",
       "      <th>max</th>\n",
       "      <td>999.000000</td>\n",
       "      <td>1.000000</td>\n",
       "      <td>3.000000</td>\n",
       "      <td>NaN</td>\n",
       "      <td>NaN</td>\n",
       "      <td>80.000000</td>\n",
       "      <td>8.00000</td>\n",
       "      <td>9.000000</td>\n",
       "      <td>NaN</td>\n",
       "      <td>512.329200</td>\n",
       "      <td>NaN</td>\n",
       "      <td>NaN</td>\n",
       "      <td>NaN</td>\n",
       "    </tr>\n",
       "  </tbody>\n",
       "</table>\n",
       "</div>"
      ],
      "text/plain": [
       "                  ID      survived        pclass              name    sex  \\\n",
       "count   10000.000000  10000.000000  10000.000000             10000  10000   \n",
       "unique           NaN           NaN           NaN               998      2   \n",
       "top              NaN           NaN           NaN  Kelly, Mr. James   male   \n",
       "freq             NaN           NaN           NaN                20   6470   \n",
       "mean      499.500000      0.373000      2.309000               NaN    NaN   \n",
       "std       288.689425      0.483626      0.835218               NaN    NaN   \n",
       "min         0.000000      0.000000      1.000000               NaN    NaN   \n",
       "25%       249.750000      0.000000      2.000000               NaN    NaN   \n",
       "50%       499.500000      0.000000      3.000000               NaN    NaN   \n",
       "75%       749.250000      1.000000      3.000000               NaN    NaN   \n",
       "max       999.000000      1.000000      3.000000               NaN    NaN   \n",
       "\n",
       "                age        sibsp         parch    ticket          fare  \\\n",
       "count   7960.000000  10000.00000  10000.000000     10000  10000.000000   \n",
       "unique          NaN          NaN           NaN       747           NaN   \n",
       "top             NaN          NaN           NaN  CA. 2343           NaN   \n",
       "freq            NaN          NaN           NaN       100           NaN   \n",
       "mean      29.894996      0.52200      0.390000       NaN     32.356224   \n",
       "std       14.572447      1.09162      0.877483       NaN     50.031280   \n",
       "min        0.166700      0.00000      0.000000       NaN      0.000000   \n",
       "25%       21.000000      0.00000      0.000000       NaN      7.895800   \n",
       "50%       28.000000      0.00000      0.000000       NaN     14.458300   \n",
       "75%       39.000000      1.00000      0.000000       NaN     31.068750   \n",
       "max       80.000000      8.00000      9.000000       NaN    512.329200   \n",
       "\n",
       "              cabin embarked     home.dest  \n",
       "count          2250    10000          5730  \n",
       "unique          155        3           308  \n",
       "top     C23 C25 C27        S  New York, NY  \n",
       "freq             50     7140           460  \n",
       "mean            NaN      NaN           NaN  \n",
       "std             NaN      NaN           NaN  \n",
       "min             NaN      NaN           NaN  \n",
       "25%             NaN      NaN           NaN  \n",
       "50%             NaN      NaN           NaN  \n",
       "75%             NaN      NaN           NaN  \n",
       "max             NaN      NaN           NaN  "
      ]
     },
     "execution_count": 235,
     "metadata": {},
     "output_type": "execute_result"
    }
   ],
   "source": [
    "# Summary of all column types, regardless of data type \n",
    "dt.describe(include='all')"
   ]
  },
  {
   "cell_type": "code",
   "execution_count": 236,
   "metadata": {},
   "outputs": [
    {
     "data": {
      "text/plain": [
       "ID              0\n",
       "survived        0\n",
       "pclass          0\n",
       "name            0\n",
       "sex             0\n",
       "age          2040\n",
       "sibsp           0\n",
       "parch           0\n",
       "ticket          0\n",
       "fare            0\n",
       "cabin        7750\n",
       "embarked        0\n",
       "home.dest    4270\n",
       "dtype: int64"
      ]
     },
     "execution_count": 236,
     "metadata": {},
     "output_type": "execute_result"
    }
   ],
   "source": [
    "# Check and display the sum of null values for each column \n",
    "dt.isnull().sum()"
   ]
  },
  {
   "cell_type": "markdown",
   "metadata": {},
   "source": [
    "### Data types and values for each column:\n",
    "#### 1.` ID`:\n",
    "Contains unique integer values, likely serving as a unique identifier for each record.\n",
    "#### 2. `survived`:\n",
    "Likely a binary indicator (0 or 1), possibly representing whether a passenger survived (1) or not (0).\n",
    "#### 3. `pclass`:\n",
    "Represents passenger class, taking values like 1, 2, or 3.\n",
    "#### 4.` name`:\n",
    "Stores the name of each passenger as text.\n",
    "#### 5. `sex`:\n",
    "Indicates the gender of the passenger (e.g., \"male\" or \"female\").\n",
    "#### 6. `age`:\n",
    "Stores the age of each passenger. The float64 type suggests age values may include decimal places, though ages are typically whole numbers.\n",
    "\n",
    "Null Values: 2040 (20.4% missing data)\n",
    "#### 7. `sibsp`:\n",
    "Indicates the number of siblings or spouses each passenger had aboard.\n",
    "#### 8. `parch`:\n",
    "Represents the number of parents or children each passenger had aboard.\n",
    "#### 9. `ticket`:\n",
    "Contains ticket numbers or codes. These may vary in format and are stored as text.\n",
    "#### 10. `fare`:\n",
    "Represents the fare paid by each passenger. This column includes decimal values.\n",
    "#### 11. `cabin`:\n",
    "Stores cabin information for each passenger, if available. Cabin values may have diverse formats, and most values are missing.\n",
    "\n",
    "Null Values: 7750 (77.5% missing data)\n",
    "#### 12. `embarked`:\n",
    "Represents the port of embarkation. This is likely a categorical variable, possibly using codes like \"C,\" \"Q,\" and \"S\" to represent different locations.\n",
    "#### 13. `home.dest`:\n",
    "Indicates the passengers' home destinations. Given as text and may have varied formats, including city names or regions.\n",
    "\n",
    "Null Values: 4270 (42.7% missing data)"
   ]
  },
  {
   "cell_type": "markdown",
   "metadata": {},
   "source": [
    "## Basic data pre-processing"
   ]
  },
  {
   "cell_type": "markdown",
   "metadata": {},
   "source": [
    "`'ID', 'name', 'ticket', 'cabin', 'home.dest'`\n",
    "\n",
    "These features have no effect on human survival so they can be removed from dataset."
   ]
  },
  {
   "cell_type": "code",
   "execution_count": 237,
   "metadata": {},
   "outputs": [
    {
     "name": "stdout",
     "output_type": "stream",
     "text": [
      "<class 'pandas.core.frame.DataFrame'>\n",
      "RangeIndex: 10000 entries, 0 to 9999\n",
      "Data columns (total 8 columns):\n",
      " #   Column    Non-Null Count  Dtype  \n",
      "---  ------    --------------  -----  \n",
      " 0   survived  10000 non-null  int64  \n",
      " 1   pclass    10000 non-null  int64  \n",
      " 2   sex       10000 non-null  object \n",
      " 3   age       7960 non-null   float64\n",
      " 4   sibsp     10000 non-null  int64  \n",
      " 5   parch     10000 non-null  int64  \n",
      " 6   fare      10000 non-null  float64\n",
      " 7   embarked  10000 non-null  object \n",
      "dtypes: float64(2), int64(4), object(2)\n",
      "memory usage: 625.1+ KB\n"
     ]
    }
   ],
   "source": [
    "# Drop features\n",
    "dt.drop(columns=['ID', 'name', 'ticket', 'cabin', 'home.dest'], inplace=True)\n",
    "dt.info()"
   ]
  },
  {
   "cell_type": "markdown",
   "metadata": {},
   "source": [
    "The column `sex` will be changed. Convert information about genders to a boolean-like format represented by integers, where `0` represents \"female\" and `1` represents \"male\". That is making it more suitable for numerical or machine learning applications."
   ]
  },
  {
   "cell_type": "code",
   "execution_count": 238,
   "metadata": {},
   "outputs": [
    {
     "name": "stdout",
     "output_type": "stream",
     "text": [
      "0    1\n",
      "1    1\n",
      "2    1\n",
      "3    1\n",
      "4    1\n",
      "5    0\n",
      "6    0\n",
      "7    0\n",
      "8    1\n",
      "9    1\n",
      "Name: sex, dtype: int64\n"
     ]
    }
   ],
   "source": [
    "# Change column 'sex' to boolean\n",
    "dt['sex'] = dt['sex'].map({'female': 0, 'male': 1}).astype(int)\n",
    "print(dt['sex'].head(10))"
   ]
  },
  {
   "cell_type": "markdown",
   "metadata": {},
   "source": [
    "Transform the column `embarked` to make it more suitable for analysis and machine learning models that require numeric input.\n",
    "\n",
    "Converts the categorical column embarked into multiple binary (0/1) columns.\n",
    "Each unique value in embarked (C, Q, and S) is turned into a separate column. The original embarked column is removed, and three new columns `embarked_C`, `embarked_Q`, and `embarked_S` are created. "
   ]
  },
  {
   "cell_type": "code",
   "execution_count": 239,
   "metadata": {},
   "outputs": [
    {
     "name": "stdout",
     "output_type": "stream",
     "text": [
      "   survived  pclass  sex   age  sibsp  parch     fare  embarked_C  embarked_Q  \\\n",
      "0         0       2    1  23.0      0      0  10.5000           0           0   \n",
      "1         0       3    1  24.0      0      0   7.7750           0           0   \n",
      "2         0       3    1  28.5      0      0   7.2292           1           0   \n",
      "3         0       3    1  16.0      0      0   9.2167           0           0   \n",
      "4         1       2    1   3.0      1      1  26.0000           0           0   \n",
      "\n",
      "   embarked_S  \n",
      "0           1  \n",
      "1           1  \n",
      "2           0  \n",
      "3           1  \n",
      "4           1  \n"
     ]
    }
   ],
   "source": [
    "# Encode 'embarked' using pd.get_dummies\n",
    "dt = pd.get_dummies(dt, columns=['embarked'], prefix='embarked')\n",
    "print(dt.head())"
   ]
  },
  {
   "cell_type": "markdown",
   "metadata": {},
   "source": [
    "These steps helped to clean, standardize and encode the data, making it fully numeric and the dataset was set for effective use.\n",
    "\n",
    "The only thing left is to fill missing values. This task will be done after splitting the dataset."
   ]
  },
  {
   "cell_type": "markdown",
   "metadata": {},
   "source": [
    "## Data Splitting (training, testing, validation)"
   ]
  },
  {
   "cell_type": "markdown",
   "metadata": {},
   "source": [
    "Separate the dataset into `features` (Xdata) and the `target variable` (ydata). This separation is essential for training a machine learning model, as it allows the model to learn the relationship between the features (Xdata) and the target (ydata). "
   ]
  },
  {
   "cell_type": "code",
   "execution_count": 240,
   "metadata": {},
   "outputs": [],
   "source": [
    "Xdata = dt.drop(\"survived\", axis=1)\n",
    "ydata = dt.survived"
   ]
  },
  {
   "cell_type": "markdown",
   "metadata": {},
   "source": [
    "Split the data into 3 subsets:\n",
    "- `train` - serves for training, \n",
    "\n",
    "the model learns from this data and adjusts its parameters to minimize errors on it.\n",
    "- `val` - serves for comparison of models (validation),\n",
    "\n",
    "use the validation set to tune hyperparameters (settings that control the model’s behavior)\n",
    "- `test` - subsequent prediction of the performance of the final model (test),\n",
    " \n",
    "is reserved strictly for evaluating the final, fully-trained model, verify how well the delivered solution works on unseen data."
   ]
  },
  {
   "cell_type": "code",
   "execution_count": 241,
   "metadata": {},
   "outputs": [],
   "source": [
    "# Divide data into 3 subsets (training, validation, testing)\n",
    "rd_seed = 333\n",
    "Xtrain, Xtest, ytrain, ytest = train_test_split(Xdata, ydata, test_size=0.4, random_state=rd_seed) \n",
    "Xval, Xtest, yval, ytest = train_test_split(Xtest, ytest, test_size=0.5, random_state=rd_seed) "
   ]
  },
  {
   "cell_type": "markdown",
   "metadata": {},
   "source": [
    "Got three subsets: training (60% of the data), validation (20%), and testing (20%)."
   ]
  },
  {
   "cell_type": "markdown",
   "metadata": {},
   "source": [
    "Final step is handle missing data in the column `age` by replacing NaN values with the average age, maintaining data completeness for analysis or modeling. "
   ]
  },
  {
   "cell_type": "code",
   "execution_count": 242,
   "metadata": {},
   "outputs": [
    {
     "data": {
      "text/plain": [
       "survived         0\n",
       "pclass           0\n",
       "sex              0\n",
       "age           2040\n",
       "sibsp            0\n",
       "parch            0\n",
       "fare             0\n",
       "embarked_C       0\n",
       "embarked_Q       0\n",
       "embarked_S       0\n",
       "dtype: int64"
      ]
     },
     "execution_count": 242,
     "metadata": {},
     "output_type": "execute_result"
    }
   ],
   "source": [
    "dt.isnull().sum(axis=0)"
   ]
  },
  {
   "cell_type": "markdown",
   "metadata": {},
   "source": [
    "Firstly, calculate the mean (average) of the `age` column and stores it in the variable mean_age. Secondly, fill any missing values (NaN) in the `age` column with the calculated mean value."
   ]
  },
  {
   "cell_type": "code",
   "execution_count": 243,
   "metadata": {},
   "outputs": [],
   "source": [
    "# Calculate the mean of the 'age' column \n",
    "mean_age_train = Xtrain['age'].mean()\n",
    "mean_age_val = Xval['age'].mean()\n",
    "mean_age_test = Xtest['age'].mean()\n",
    "\n",
    "# Create copies of each subset with filled missing values\n",
    "Xtrain = Xtrain.copy()\n",
    "Xval = Xval.copy()\n",
    "Xtest = Xtest.copy()\n",
    "\n",
    "# Fill missing values in 'age' using the means calculated for each subset\n",
    "Xtrain['age'] = Xtrain['age'].fillna(mean_age_train)\n",
    "Xval['age'] = Xval['age'].fillna(mean_age_val)\n",
    "Xtest['age'] = Xtest['age'].fillna(mean_age_test)"
   ]
  },
  {
   "cell_type": "markdown",
   "metadata": {},
   "source": [
    "# Decision tree"
   ]
  },
  {
   "cell_type": "markdown",
   "metadata": {},
   "source": [
    "For the prepared data, apply a decision tree method. "
   ]
  },
  {
   "cell_type": "code",
   "execution_count": 244,
   "metadata": {},
   "outputs": [],
   "source": [
    "# Define hyperparameter combinations\n",
    "param_grid = {\n",
    "    'max_depth': range(2, 25), \n",
    "    'criterion': ['entropy', 'gini']\n",
    "}\n",
    "param_comb = ParameterGrid(param_grid)"
   ]
  },
  {
   "cell_type": "markdown",
   "metadata": {},
   "source": [
    "To achieve the best performance in my task, I experimented with different ranges for the `max_depth` parameter during the preparation phase. By testing various ranges, I observed that a `max_depth` range from 2 to 25 consistently provided the highest accuracy scores and ROC-AUC values on both the training and validation sets."
   ]
  },
  {
   "cell_type": "code",
   "execution_count": 245,
   "metadata": {},
   "outputs": [],
   "source": [
    "# Initializing lists for accuracy scores\n",
    "train_acc = []\n",
    "val_acc = []"
   ]
  },
  {
   "cell_type": "code",
   "execution_count": 246,
   "metadata": {},
   "outputs": [
    {
     "name": "stdout",
     "output_type": "stream",
     "text": [
      "Best Params Found: {'max_depth': 19, 'criterion': 'entropy'}\n"
     ]
    },
    {
     "data": {
      "image/png": "[encoded data removed]",
      "text/plain": [
       "<Figure size 720x576 with 2 Axes>"
      ]
     },
     "metadata": {
      "needs_background": "light"
     },
     "output_type": "display_data"
    }
   ],
   "source": [
    "# Initializing lists for accuracy scores\n",
    "train_acc_by_criterion = {'entropy': [], 'gini': []}\n",
    "val_acc_by_criterion = {'entropy': [], 'gini': []}\n",
    "\n",
    "# Grid search to find the best hyperparameters\n",
    "for params in param_comb:\n",
    "    # Initialize DecisionTreeClassifier with those parameters\n",
    "    dt = DecisionTreeClassifier(max_depth=params['max_depth'], criterion=params['criterion'], random_state=42)\n",
    "    # Train the decision tree using training data\n",
    "    dt.fit(Xtrain, ytrain)\n",
    "    # Append the accuracy of the model for training and validation datasets\n",
    "    train_acc_by_criterion[params['criterion']].append(metrics.accuracy_score(ytrain, dt.predict(Xtrain)))\n",
    "    val_acc_by_criterion[params['criterion']].append(metrics.accuracy_score(yval, dt.predict(Xval)))\n",
    "\n",
    "# Identify the best parameters based on maximum validation accuracy\n",
    "val_acc_flat = [acc for criterion_acc in val_acc_by_criterion.values() for acc in criterion_acc]\n",
    "best_params = param_comb[np.argmax(val_acc_flat)]\n",
    "print(\"Best Params Found:\", best_params)\n",
    "\n",
    "# Create a figure with two subplots\n",
    "fig, axes = plt.subplots(2, 1, figsize=(10, 8))\n",
    "\n",
    "# Training set\n",
    "for criterion in ['entropy', 'gini']:\n",
    "    axes[0].plot(range(2, 25), train_acc_by_criterion[criterion], label=criterion)\n",
    "\n",
    "axes[0].set_xlim(1.5, 25)\n",
    "axes[0].set_xticks(range(2, 26, 2))  # Adjust the tick intervals as needed\n",
    "axes[0].set_xlabel('Max Depth')\n",
    "axes[0].set_ylabel('Accuracy')\n",
    "axes[0].set_title('Training Set Accuracy', fontdict={'fontsize': 15})\n",
    "axes[0].legend()\n",
    "axes[0].grid(color='grey', linestyle='--')\n",
    "\n",
    "# Validation set\n",
    "for criterion in ['entropy', 'gini']:\n",
    "    axes[1].plot(range(2, 25), val_acc_by_criterion[criterion], label=criterion)\n",
    "\n",
    "axes[1].set_xlim(1.5, 25)\n",
    "axes[1].set_xticks(range(2, 26, 2))  # Adjust the tick intervals as needed\n",
    "axes[1].set_xlabel('Max Depth')\n",
    "axes[1].set_ylabel('Accuracy')\n",
    "axes[1].set_title('Validation Set Accuracy', fontdict={'fontsize': 15})\n",
    "axes[1].legend()\n",
    "axes[1].grid(color='grey', linestyle='--')\n",
    "\n",
    "# Adjust layout and show the plot\n",
    "fig.tight_layout(pad=2.0)\n",
    "plt.show()"
   ]
  },
  {
   "cell_type": "markdown",
   "metadata": {},
   "source": [
    "The plots show the accuracy of a decision tree classifier on both the training and validation sets as the maximum depth (max_depth) parameter of the tree increases, for two different splitting criteria: \"entropy\" and \"gini.\"\n",
    "\n",
    "Training Set Accuracy (Top Plot)\n",
    "\n",
    "As max_depth increases, the training accuracy steadily increases for both \"entropy\" and \"gini\" criteria.\n",
    "As the depth increases, the model becomes more complex and better fits the training data, achieving higher accuracy.\n",
    "\n",
    "\n",
    "Validation Set Accuracy (Bottom Plot)\n",
    "\n",
    "Accuracy reaches its peak at max_depth = 19 for both criteria, with a noticeable dip after this point."
   ]
  },
  {
   "cell_type": "code",
   "execution_count": 247,
   "metadata": {},
   "outputs": [
    {
     "name": "stdout",
     "output_type": "stream",
     "text": [
      "Test set accuracy score: 0.923500\n",
      "Test set F1 score:       0.906077\n",
      "Validation set accuracy score: 0.976500\n",
      "Validation set F1 score:       0.966211\n"
     ]
    }
   ],
   "source": [
    "# Training DecisionTree with the best hyperparameters\n",
    "best_tree = DecisionTreeClassifier(criterion=best_params['criterion'], max_depth=best_params['max_depth'])\n",
    "best_tree.fit(Xtrain, ytrain)\n",
    "\n",
    "# Evaluating the model on the test set\n",
    "test_accuracy = metrics.accuracy_score(ytest, best_tree.predict(Xtest))\n",
    "test_f1_score = metrics.f1_score(ytest, best_tree.predict(Xtest))\n",
    "\n",
    "# Printing the results\n",
    "print('Test set accuracy score: {0:.6f}'.format(test_accuracy))\n",
    "print('Test set F1 score:       {0:.6f}'.format(test_f1_score))\n",
    "\n",
    "# Validating DecisionTree with the best hyperparameters\n",
    "best_tree.fit(Xval, yval)\n",
    "\n",
    "# Evaluating the model on the validation set\n",
    "val_accuracy_dt = metrics.accuracy_score(yval, best_tree.predict(Xval))\n",
    "val_f1_score_dt = metrics.f1_score(yval, best_tree.predict(Xval))\n",
    "\n",
    "# Printing the results\n",
    "print('Validation set accuracy score: {0:.6f}'.format(val_accuracy_dt))\n",
    "print('Validation set F1 score:       {0:.6f}'.format(val_f1_score_dt))"
   ]
  },
  {
   "cell_type": "code",
   "execution_count": 248,
   "metadata": {},
   "outputs": [
    {
     "data": {
      "image/png": "[encoded data removed]",
      "text/plain": [
       "<Figure size 432x288 with 1 Axes>"
      ]
     },
     "metadata": {
      "needs_background": "light"
     },
     "output_type": "display_data"
    }
   ],
   "source": [
    "fpr, tpr, thresholds = metrics.roc_curve(yval, dt.predict_proba(Xval)[:, 1])\n",
    "\n",
    "# AUC = metrics.auc(fpr, tpr)\n",
    "AUC = metrics.roc_auc_score(yval, dt.predict_proba(Xval)[:, 1])\n",
    "\n",
    "plt.figure()\n",
    "plt.plot([0, 1], [0, 1], color=\"navy\", lw=2, linestyle=\"--\")\n",
    "plt.plot(fpr, tpr, color=\"darkorange\", lw=2, label = f\"ROC křivka (AUC = {AUC:.3f})\")\n",
    "plt.xlim([0.0, 1.0])\n",
    "plt.ylim([0.0, 1.05])\n",
    "plt.xlabel(\"False Positive Rate\")\n",
    "plt.ylabel(\"True Positive Rate\")\n",
    "plt.title(\"ROC křivka\")\n",
    "plt.legend(loc=\"lower right\")\n",
    "plt.show()"
   ]
  },
  {
   "cell_type": "markdown",
   "metadata": {},
   "source": [
    "AUC = 0.958\n",
    "\n",
    "The ROC curve demonstrates that the model performs well on this  binary classification model, with an AUC of 0.958 indicating it has good predictive power."
   ]
  },
  {
   "cell_type": "markdown",
   "metadata": {},
   "source": [
    "# kNN (KNearestNeighbors)"
   ]
  },
  {
   "cell_type": "markdown",
   "metadata": {},
   "source": [
    "Perform a hyperparameter search for a K-Nearest Neighbors (kNN) classifier using two different scaling techniques, `MinMaxScaler` and `StandardScaler`, to find the best model configuration based on F1 score."
   ]
  },
  {
   "cell_type": "markdown",
   "metadata": {},
   "source": [
    "Firstly, apply both `MinMaxScaler` and `StandardScaler` to the training data. These scalers ensure that features are on the same scale, which improves the performance and reliability of the kNN model by giving each feature an equal influence on the distance calculations."
   ]
  },
  {
   "cell_type": "code",
   "execution_count": 249,
   "metadata": {},
   "outputs": [],
   "source": [
    "# MinMax Scaling\n",
    "mm_scaler = MinMaxScaler()\n",
    "\n",
    "mm_Xtrain = mm_scaler.fit_transform(Xtrain)\n",
    "mm_Xval = mm_scaler.transform(Xval)\n",
    "mm_Xtest = mm_scaler.transform(Xtest)\n",
    "\n",
    "# Standard Scaling\n",
    "st_scaler = StandardScaler()\n",
    "\n",
    "st_Xtrain = st_scaler.fit_transform(Xtrain)\n",
    "st_Xval = st_scaler.transform(Xval)\n",
    "st_Xtest = st_scaler.transform(Xtest)"
   ]
  },
  {
   "cell_type": "markdown",
   "metadata": {},
   "source": [
    "Secondly, define a grid of hyperparameters for the kNN model. ParameterGrid creates a list of all combinations, which will be tested to find the best-performing configuration."
   ]
  },
  {
   "cell_type": "code",
   "execution_count": 250,
   "metadata": {},
   "outputs": [],
   "source": [
    "# Hyperparameter combinations for KNN\n",
    "param_grid = {\n",
    "    'n_neighbors': range(1, 31),  # Number of neighbors to consider\n",
    "    'weights': ['uniform', 'distance'],  # Weighting strategy for neighbors\n",
    "    'metric': ['euclidean', 'manhattan'],  # Distance metric\n",
    "}\n",
    "param_combinations = ParameterGrid(param_grid)  # Generate all possible combinations"
   ]
  },
  {
   "cell_type": "markdown",
   "metadata": {},
   "source": [
    "For each combination of hyperparameters, a kNN model is trained separately on the MinMax-scaled and Standard-scaled data, and the F1 score is calculated on the validation set."
   ]
  },
  {
   "cell_type": "code",
   "execution_count": 251,
   "metadata": {},
   "outputs": [],
   "source": [
    "# Lists for collecting results\n",
    "mm_val_f1_scores = []  # F1 scores for MinMaxScaler\n",
    "st_val_f1_scores = []  # F1 scores for StandardScaler\n",
    "mm_val_accuracy_scores = []  # Accuracy scores for MinMaxScaler\n",
    "st_val_accuracy_scores = []  # Accuracy scores for StandardScaler\n",
    "\n",
    "# Collect results\n",
    "for params in param_combinations:\n",
    "    # Create KNN classifier with specified hyperparameters\n",
    "    knn = KNeighborsClassifier(\n",
    "        n_neighbors=params['n_neighbors'],\n",
    "        metric=params['metric'],\n",
    "        weights=params['weights'],\n",
    "    )\n",
    "\n",
    "    # Training and evaluating with MinMaxScaler\n",
    "    knn.fit(mm_Xtrain, ytrain)\n",
    "    mm_val_accuracy_scores.append(accuracy_score(yval, knn.predict(mm_Xval)))\n",
    "    mm_val_f1_scores.append(f1_score(yval, knn.predict(mm_Xval)))\n",
    "\n",
    "    # Training and evaluating with StandardScaler\n",
    "    knn.fit(st_Xtrain, ytrain)\n",
    "    st_val_accuracy_scores.append(accuracy_score(yval, knn.predict(st_Xval)))\n",
    "    st_val_f1_scores.append(f1_score(yval, knn.predict(st_Xval)))"
   ]
  },
  {
   "cell_type": "code",
   "execution_count": 252,
   "metadata": {},
   "outputs": [
    {
     "name": "stdout",
     "output_type": "stream",
     "text": [
      "Using MinMaxScaler:\n",
      "Best Params: {'weights': 'distance', 'n_neighbors': 15, 'metric': 'manhattan'}\n",
      "Best Accuracy Score: 0.9665\n",
      "Best F1 Score: 0.9526501766784452\n",
      "\n",
      "Using StandardScaler:\n",
      "Best Params: {'weights': 'distance', 'n_neighbors': 26, 'metric': 'manhattan'}\n",
      "Best Accuracy Score: 0.966\n",
      "Best F1 Score: 0.9519774011299434\n",
      "\n",
      "Overall Best Params: {'weights': 'distance', 'n_neighbors': 15, 'metric': 'manhattan'}\n",
      "Overall Best Accuracy Score: 0.9665\n",
      "Overall Best F1 Score: 0.9526501766784452\n"
     ]
    }
   ],
   "source": [
    "# Find best hyperparameters \n",
    "mm_best_params = param_combinations[np.argmax(mm_val_f1_scores)]\n",
    "st_best_params = param_combinations[np.argmax(st_val_f1_scores)]\n",
    "\n",
    "# Print results for MinMaxScaler\n",
    "print(\"Using MinMaxScaler:\")\n",
    "print(\"Best Params:\", mm_best_params)\n",
    "print(\"Best Accuracy Score:\", max(mm_val_accuracy_scores))\n",
    "print(\"Best F1 Score:\", max(mm_val_f1_scores))\n",
    "\n",
    "# Print results for StandardScaler\n",
    "print(\"\\nUsing StandardScaler:\")\n",
    "print(\"Best Params:\", st_best_params)\n",
    "print(\"Best Accuracy Score:\", max(st_val_accuracy_scores))\n",
    "print(\"Best F1 Score:\", max(st_val_f1_scores))\n",
    "\n",
    "# Select the best hyperparameters based on the higher F1 score\n",
    "best_params = st_best_params if max(st_val_f1_scores) > max(mm_val_f1_scores) else mm_best_params\n",
    "print(\"\\nOverall Best Params:\", best_params)\n",
    "print(\"Overall Best Accuracy Score:\", max(max(st_val_accuracy_scores), max(mm_val_accuracy_scores)))\n",
    "print(\"Overall Best F1 Score:\", max(max(st_val_f1_scores), max(mm_val_f1_scores)))"
   ]
  },
  {
   "cell_type": "markdown",
   "metadata": {},
   "source": [
    "Using the best hyperparameters found, train the model on the validation set and evaluate the Accuracy and F1 scores."
   ]
  },
  {
   "cell_type": "code",
   "execution_count": 253,
   "metadata": {},
   "outputs": [
    {
     "name": "stdout",
     "output_type": "stream",
     "text": [
      "Validation Set Accuracy Score: 0.97950000\n",
      "Validation Set F1 Score: 0.97065140\n"
     ]
    }
   ],
   "source": [
    "# Create KNN classifier with the best hyperparameters\n",
    "best_knn = KNeighborsClassifier(\n",
    "    n_neighbors=best_params['n_neighbors'],\n",
    "    weights=best_params['weights'],\n",
    "    metric=best_params['metric']\n",
    ")\n",
    "\n",
    "# Select the best scaling method based on validation performance\n",
    "if best_params == mm_best_params:\n",
    "    best_knn.fit(mm_Xval, yval)\n",
    "    test_predictions = best_knn.predict(mm_Xval)\n",
    "else:\n",
    "    best_knn.fit(st_Xval, yval)\n",
    "    test_predictions = best_knn.predict(st_Xval)\n",
    "\n",
    "# Calculate F1 and accuracy scores on the validation set\n",
    "val_accuracy_score = accuracy_score(yval, test_predictions)\n",
    "val_f1_score = f1_score(yval, test_predictions)\n",
    "print(f'Validation Set Accuracy Score: {val_accuracy_score:.8f}')\n",
    "print(f'Validation Set F1 Score: {val_f1_score:.8f}')\n"
   ]
  },
  {
   "cell_type": "code",
   "execution_count": 254,
   "metadata": {},
   "outputs": [
    {
     "data": {
      "image/png": "[encoded data removed]",
      "text/plain": [
       "<Figure size 432x288 with 1 Axes>"
      ]
     },
     "metadata": {
      "needs_background": "light"
     },
     "output_type": "display_data"
    }
   ],
   "source": [
    "fpr_knn, tpr_knn, thresholds_knn = metrics.roc_curve(yval, knn.predict_proba(st_Xval)[:, 1])\n",
    "\n",
    "AUC_knn = metrics.roc_auc_score(yval, knn.predict_proba(st_Xval)[:, 1])\n",
    "\n",
    "plt.figure()\n",
    "plt.plot([0, 1], [0, 1], color=\"navy\", lw=2, linestyle=\"--\")\n",
    "plt.plot(fpr_knn, tpr_knn, color=\"darkorange\", lw=2, label = f\"ROC křivka (AUC = {AUC_knn:.3f})\")\n",
    "plt.xlim([0.0, 1.0])\n",
    "plt.ylim([0.0, 1.05])\n",
    "plt.xlabel(\"False Positive Rate\")\n",
    "plt.ylabel(\"True Positive Rate\")\n",
    "plt.title(\"ROC křivka for kNN\")\n",
    "plt.legend(loc=\"lower right\")\n",
    "plt.show()"
   ]
  },
  {
   "cell_type": "markdown",
   "metadata": {},
   "source": [
    "AUC = 0.996\n",
    "\n",
    "Plot the ROC curve for a k-Nearest Neighbors (kNN) classifier. An AUC of 0.996 suggests that this kNN model has a strong ability to distinguish between the two classes in the dataset."
   ]
  },
  {
   "cell_type": "markdown",
   "metadata": {},
   "source": [
    "## Compare methods: Decision tree vs kNN"
   ]
  },
  {
   "cell_type": "markdown",
   "metadata": {},
   "source": [
    "In the task I should decide which metod is better. Each method has own advantages and disadvantages. \n",
    "\n",
    "Decision Tree is easy to interpret because they mimic human decision-making (i.e., splitting based on feature values); handles both numerical and categorical data; do not require scaling of the input data. But however Decision Trees tend to overfit the training data if not properly pruned (controlled via hyperparameters like max_depth); also small changes in the data can lead to large changes in the tree structure, making them less stable; might perform poorly if the data has too many features or complex interactions unless tuned properly.\n",
    "\n",
    "\n",
    "k-Nearest Neighbors (kNN) works well for a wide variety of data types, but becomes slow and inefficient for large datasets; can be affected by noisy data and outliers; requires scaling of features (MinMaxScaler or StandardScaler) because it relies on distance metrics; as the number of features increases, kNN performance can degrade significantly if the data is sparse in high-dimensional space.\n"
   ]
  },
  {
   "cell_type": "markdown",
   "metadata": {},
   "source": [
    "Compare the ROC curves of both models on the same plot. "
   ]
  },
  {
   "cell_type": "code",
   "execution_count": 255,
   "metadata": {},
   "outputs": [
    {
     "data": {
      "image/png": "[encoded data removed]",
      "text/plain": [
       "<Figure size 720x432 with 1 Axes>"
      ]
     },
     "metadata": {
      "needs_background": "light"
     },
     "output_type": "display_data"
    }
   ],
   "source": [
    "# Plotting both ROC curves\n",
    "plt.figure(figsize=(10, 6))\n",
    "plt.plot(fpr, tpr, color=\"red\", lw=2, label=f\"Decision Tree (AUC = {AUC:.3f})\")\n",
    "plt.plot(fpr_knn, tpr_knn, color=\"green\", lw=2, label=f\"kNN (AUC = {AUC_knn:.3f})\")\n",
    "plt.plot([0, 1], [0, 1], color=\"navy\", lw=2, linestyle=\"--\")\n",
    "plt.xlim([0.0, 1.0])\n",
    "plt.ylim([0.0, 1.05])\n",
    "plt.xlabel(\"False Positive Rate\")\n",
    "plt.ylabel(\"True Positive Rate\")\n",
    "plt.title(\"ROC Curve Comparison\")\n",
    "plt.legend(loc=\"lower right\")\n",
    "plt.show()"
   ]
  },
  {
   "cell_type": "markdown",
   "metadata": {},
   "source": [
    "Compare the accuracy and F1 scores for two different models on a validation set. "
   ]
  },
  {
   "cell_type": "code",
   "execution_count": 256,
   "metadata": {},
   "outputs": [
    {
     "name": "stdout",
     "output_type": "stream",
     "text": [
      "Decision Tree:\n",
      "Validation Set Accuracy Score: 0.97650000\n",
      "Validation Set F1 Score: 0.96621136\n",
      "Validation Set AUC Score: 0.95794199\n",
      "\n",
      "kNN:\n",
      "Validation Set Accuracy Score: 0.97950000\n",
      "Validation Set F1 Score: 0.97065140\n",
      "Validation Set AUC Score: 0.99607295\n"
     ]
    }
   ],
   "source": [
    "# Decision Tree Model \n",
    "print(\"Decision Tree:\")\n",
    "print(f'Validation Set Accuracy Score: {val_accuracy_dt:.8f}')\n",
    "print(f'Validation Set F1 Score: {val_f1_score_dt:.8f}')\n",
    "print(f'Validation Set AUC Score: {AUC:.8f}')\n",
    "\n",
    "#kNN\n",
    "print(\"\\nkNN:\")\n",
    "print(f'Validation Set Accuracy Score: {val_accuracy_score:.8f}')\n",
    "print(f'Validation Set F1 Score: {val_f1_score:.8f}')\n",
    "print(f'Validation Set AUC Score: {AUC_knn:.8f}')"
   ]
  },
  {
   "cell_type": "markdown",
   "metadata": {},
   "source": [
    "**kNN** seems to be the better model.\n",
    "The kNN classifier outperforms the Decision Tree classifier in terms of F1 and AUC scores on the validation set. kNN achieves a higher F1 score, suggesting better precision and recall balance for this particular task."
   ]
  },
  {
   "cell_type": "markdown",
   "metadata": {},
   "source": [
    "When the best model is chosen, it is time to test the **kNN model** with the best hyperparameters on the `testing data`."
   ]
  },
  {
   "cell_type": "code",
   "execution_count": 257,
   "metadata": {},
   "outputs": [
    {
     "name": "stdout",
     "output_type": "stream",
     "text": [
      "Test Set Accuracy Score: 0.92850000\n",
      "Test Set F1 Score: 0.90447562\n",
      "Test Set AUC Score: 0.76282670\n"
     ]
    }
   ],
   "source": [
    "# Train the kNN model using the selected scaling method\n",
    "if best_params == mm_best_params:\n",
    "    best_knn.fit(mm_Xval, yval)  # Fit using MinMax-scaled data\n",
    "    final_predictions = best_knn.predict(mm_Xtest)  # Predict on test data\n",
    "else:\n",
    "    best_knn.fit(st_Xval, yval)  # Fit using Standard-scaled data\n",
    "    final_predictions = best_knn.predict(st_Xtest)  # Predict on test data\n",
    "    \n",
    "# Calculate evaluation metrics for the test set\n",
    "test_accuracy = accuracy_score(ytest, final_predictions)\n",
    "test_f1_score = f1_score(ytest, final_predictions)\n",
    "test_auc_score = metrics.roc_auc_score(ytest, best_knn.predict_proba(Xtest)[:, 1])\n",
    "\n",
    "# Print the results for the test set\n",
    "print(f'Test Set Accuracy Score: {test_accuracy:.8f}')\n",
    "print(f'Test Set F1 Score: {test_f1_score:.8f}')\n",
    "print(f'Test Set AUC Score: {test_auc_score:.8f}')"
   ]
  },
  {
   "cell_type": "markdown",
   "metadata": {},
   "source": [
    "The performance of the kNN model, based on testing subset, is very well. The model achieves excellent accuracy and F1 scores, indicating strong generalization on the test set."
   ]
  },
  {
   "cell_type": "markdown",
   "metadata": {},
   "source": [
    "Expected performance on new data: Based on the current results, I expect reasonable accuracy around 90% and F1 scores around ~0.90 too, but there may be a drop in performance if the new data is different from the test set."
   ]
  },
  {
   "cell_type": "markdown",
   "metadata": {},
   "source": [
    "## Evaluation data and results.csv"
   ]
  },
  {
   "cell_type": "markdown",
   "metadata": {},
   "source": [
    "The final part of the task, load the evaluation dataset from `evaluation.csv` into a pandas DataFrame."
   ]
  },
  {
   "cell_type": "code",
   "execution_count": 258,
   "metadata": {},
   "outputs": [
    {
     "name": "stdout",
     "output_type": "stream",
     "text": [
      "<class 'pandas.core.frame.DataFrame'>\n",
      "RangeIndex: 309 entries, 0 to 308\n",
      "Data columns (total 12 columns):\n",
      " #   Column     Non-Null Count  Dtype  \n",
      "---  ------     --------------  -----  \n",
      " 0   ID         309 non-null    int64  \n",
      " 1   pclass     309 non-null    int64  \n",
      " 2   name       309 non-null    object \n",
      " 3   sex        309 non-null    object \n",
      " 4   age        250 non-null    float64\n",
      " 5   sibsp      309 non-null    int64  \n",
      " 6   parch      309 non-null    int64  \n",
      " 7   ticket     309 non-null    object \n",
      " 8   fare       308 non-null    float64\n",
      " 9   cabin      70 non-null     object \n",
      " 10  embarked   307 non-null    object \n",
      " 11  home.dest  172 non-null    object \n",
      "dtypes: float64(2), int64(4), object(6)\n",
      "memory usage: 29.1+ KB\n"
     ]
    }
   ],
   "source": [
    "eval = pd.read_csv('evaluation.csv')\n",
    "eval.info()"
   ]
  },
  {
   "cell_type": "markdown",
   "metadata": {},
   "source": [
    "#### Data Preprocessing\n",
    "Preprocessing steps were applied to ensure the evaluation data matched the format of the training data."
   ]
  },
  {
   "cell_type": "code",
   "execution_count": 259,
   "metadata": {},
   "outputs": [
    {
     "name": "stdout",
     "output_type": "stream",
     "text": [
      "<class 'pandas.core.frame.DataFrame'>\n",
      "RangeIndex: 309 entries, 0 to 308\n",
      "Data columns (total 9 columns):\n",
      " #   Column      Non-Null Count  Dtype  \n",
      "---  ------      --------------  -----  \n",
      " 0   pclass      309 non-null    int64  \n",
      " 1   sex         309 non-null    int64  \n",
      " 2   age         309 non-null    float64\n",
      " 3   sibsp       309 non-null    int64  \n",
      " 4   parch       309 non-null    int64  \n",
      " 5   fare        309 non-null    float64\n",
      " 6   embarked_C  309 non-null    uint8  \n",
      " 7   embarked_Q  309 non-null    uint8  \n",
      " 8   embarked_S  309 non-null    uint8  \n",
      "dtypes: float64(2), int64(4), uint8(3)\n",
      "memory usage: 15.5 KB\n"
     ]
    }
   ],
   "source": [
    "ids = eval['ID']\n",
    "# Drop features\n",
    "eval.drop(columns=['ID', 'name', 'ticket', 'cabin', 'home.dest'], inplace=True)\n",
    "\n",
    "# Change column 'sex' to boolean\n",
    "eval['sex'] = eval['sex'].map({'female': 0, 'male': 1}).astype(int)\n",
    "\n",
    "# Encode 'embarked' using pd.get_dummies\n",
    "eval = pd.get_dummies(eval, columns=['embarked'], prefix='embarked')\n",
    "\n",
    "# Calculate the mean of the 'age' column\n",
    "mean_age = eval['age'].mean()\n",
    "\n",
    "# Replace missing values (NaN) in the 'age' column with the calculated mean\n",
    "eval['age'].fillna(mean_age, inplace=True)\n",
    "\n",
    "# For 'fare'\n",
    "mean_fare = eval['fare'].mean()\n",
    "eval['fare'].fillna(mean_fare, inplace=True)\n",
    "\n",
    "eval.info()"
   ]
  },
  {
   "cell_type": "markdown",
   "metadata": {},
   "source": [
    "Applied the scaler (StandardScaler) used during training to scale the features in the evaluation dataset."
   ]
  },
  {
   "cell_type": "code",
   "execution_count": 260,
   "metadata": {},
   "outputs": [],
   "source": [
    "# Apply scaler\n",
    "eval = st_scaler.transform(eval)"
   ]
  },
  {
   "cell_type": "markdown",
   "metadata": {},
   "source": [
    "The preprocessed evaluation data was fed into the final model (k-Nearest Neighbors) to generate predictions.\n",
    "\n",
    "Predictions were stored as a numpy array and then converted to a pandas Series for easier handling."
   ]
  },
  {
   "cell_type": "code",
   "execution_count": 261,
   "metadata": {},
   "outputs": [
    {
     "name": "stdout",
     "output_type": "stream",
     "text": [
      "0      1\n",
      "1      0\n",
      "2      0\n",
      "3      1\n",
      "4      0\n",
      "      ..\n",
      "304    1\n",
      "305    0\n",
      "306    1\n",
      "307    0\n",
      "308    0\n",
      "Length: 309, dtype: int64\n"
     ]
    }
   ],
   "source": [
    "# Get predictions using K-nearest neighbors model\n",
    "predictions = knn.predict(eval)\n",
    "\n",
    "# Convert predictions from numpy array to pandas Series\n",
    "predictions = pd.Series(predictions) \n",
    "print(predictions)"
   ]
  },
  {
   "cell_type": "markdown",
   "metadata": {},
   "source": [
    "Create a new DataFrame containing two columns(`ID`, `survived`).\n",
    "Rename the columns to match the required format. Make sure that the final step is fully adhered to the submission format, ensuring the evaluator can easily check my results."
   ]
  },
  {
   "cell_type": "code",
   "execution_count": 262,
   "metadata": {},
   "outputs": [
    {
     "data": {
      "text/html": [
       "<div>\n",
       "<style scoped>\n",
       "    .dataframe tbody tr th:only-of-type {\n",
       "        vertical-align: middle;\n",
       "    }\n",
       "\n",
       "    .dataframe tbody tr th {\n",
       "        vertical-align: top;\n",
       "    }\n",
       "\n",
       "    .dataframe thead th {\n",
       "        text-align: right;\n",
       "    }\n",
       "</style>\n",
       "<table border=\"1\" class=\"dataframe\">\n",
       "  <thead>\n",
       "    <tr style=\"text-align: right;\">\n",
       "      <th></th>\n",
       "      <th>ID</th>\n",
       "      <th>survived</th>\n",
       "    </tr>\n",
       "  </thead>\n",
       "  <tbody>\n",
       "    <tr>\n",
       "      <th>0</th>\n",
       "      <td>1000</td>\n",
       "      <td>1</td>\n",
       "    </tr>\n",
       "    <tr>\n",
       "      <th>1</th>\n",
       "      <td>1001</td>\n",
       "      <td>0</td>\n",
       "    </tr>\n",
       "    <tr>\n",
       "      <th>2</th>\n",
       "      <td>1002</td>\n",
       "      <td>0</td>\n",
       "    </tr>\n",
       "    <tr>\n",
       "      <th>3</th>\n",
       "      <td>1003</td>\n",
       "      <td>1</td>\n",
       "    </tr>\n",
       "    <tr>\n",
       "      <th>4</th>\n",
       "      <td>1004</td>\n",
       "      <td>0</td>\n",
       "    </tr>\n",
       "    <tr>\n",
       "      <th>...</th>\n",
       "      <td>...</td>\n",
       "      <td>...</td>\n",
       "    </tr>\n",
       "    <tr>\n",
       "      <th>304</th>\n",
       "      <td>1304</td>\n",
       "      <td>1</td>\n",
       "    </tr>\n",
       "    <tr>\n",
       "      <th>305</th>\n",
       "      <td>1305</td>\n",
       "      <td>0</td>\n",
       "    </tr>\n",
       "    <tr>\n",
       "      <th>306</th>\n",
       "      <td>1306</td>\n",
       "      <td>1</td>\n",
       "    </tr>\n",
       "    <tr>\n",
       "      <th>307</th>\n",
       "      <td>1307</td>\n",
       "      <td>0</td>\n",
       "    </tr>\n",
       "    <tr>\n",
       "      <th>308</th>\n",
       "      <td>1308</td>\n",
       "      <td>0</td>\n",
       "    </tr>\n",
       "  </tbody>\n",
       "</table>\n",
       "<p>309 rows × 2 columns</p>\n",
       "</div>"
      ],
      "text/plain": [
       "       ID  survived\n",
       "0    1000         1\n",
       "1    1001         0\n",
       "2    1002         0\n",
       "3    1003         1\n",
       "4    1004         0\n",
       "..    ...       ...\n",
       "304  1304         1\n",
       "305  1305         0\n",
       "306  1306         1\n",
       "307  1307         0\n",
       "308  1308         0\n",
       "\n",
       "[309 rows x 2 columns]"
      ]
     },
     "execution_count": 262,
     "metadata": {},
     "output_type": "execute_result"
    }
   ],
   "source": [
    "results = pd.concat([ids, predictions], axis=1) # create dataframe \n",
    "results.rename(columns={0:'survived'}, inplace=True) # rename column\n",
    "results"
   ]
  },
  {
   "cell_type": "markdown",
   "metadata": {},
   "source": [
    "Save this DataFrame to a CSV file named `results.csv`. "
   ]
  },
  {
   "cell_type": "code",
   "execution_count": 263,
   "metadata": {},
   "outputs": [],
   "source": [
    "results.to_csv('results.csv', index=False)"
   ]
  }
 ],
 "metadata": {
  "kernelspec": {
   "display_name": "ml1",
   "language": "python",
   "name": "ml1"
  },
  "language_info": {
   "codemirror_mode": {
    "name": "ipython",
    "version": 3
   },
   "file_extension": ".py",
   "mimetype": "text/x-python",
   "name": "python",
   "nbconvert_exporter": "python",
   "pygments_lexer": "ipython3",
   "version": "3.6.9"
  }
 },
 "nbformat": 4,
 "nbformat_minor": 5
}
